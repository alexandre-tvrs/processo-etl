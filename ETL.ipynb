{
 "cells": [
  {
   "cell_type": "markdown",
   "source": [
    "# Importação das bibliotecas e carregamento dos dados"
   ],
   "metadata": {
    "collapsed": false
   },
   "id": "a2697e462f2df54b"
  },
  {
   "cell_type": "code",
   "execution_count": 132,
   "id": "initial_id",
   "metadata": {
    "collapsed": true,
    "ExecuteTime": {
     "end_time": "2023-10-21T15:09:24.148034Z",
     "start_time": "2023-10-21T15:09:22.809180600Z"
    }
   },
   "outputs": [
    {
     "data": {
      "text/plain": "   ano_mes situacao tipo_contribuinte cnae_secao_cod cnae_secao_descr  \\\n0  2023-07  DEVEDOR                PF            NaN              NaN   \n1  2023-07  DEVEDOR                PF            NaN              NaN   \n2  2023-07  DEVEDOR                PF            NaN              NaN   \n3  2023-07  DEVEDOR                PF            NaN              NaN   \n4  2023-07  DEVEDOR                PF            NaN              NaN   \n\n  nat_juridica  uf   grupo_tributo     vl_total  \n0          NaN  AC  CONTRIB. PREV.   3861807,15  \n1          NaN  AC            IRPF  52726729,42  \n2          NaN  AC            IRRF      59873,2  \n3          NaN  AC             ITR   8171734,62  \n4          NaN  AC          MULTAS    994572,04  ",
      "text/html": "<div>\n<style scoped>\n    .dataframe tbody tr th:only-of-type {\n        vertical-align: middle;\n    }\n\n    .dataframe tbody tr th {\n        vertical-align: top;\n    }\n\n    .dataframe thead th {\n        text-align: right;\n    }\n</style>\n<table border=\"1\" class=\"dataframe\">\n  <thead>\n    <tr style=\"text-align: right;\">\n      <th></th>\n      <th>ano_mes</th>\n      <th>situacao</th>\n      <th>tipo_contribuinte</th>\n      <th>cnae_secao_cod</th>\n      <th>cnae_secao_descr</th>\n      <th>nat_juridica</th>\n      <th>uf</th>\n      <th>grupo_tributo</th>\n      <th>vl_total</th>\n    </tr>\n  </thead>\n  <tbody>\n    <tr>\n      <th>0</th>\n      <td>2023-07</td>\n      <td>DEVEDOR</td>\n      <td>PF</td>\n      <td>NaN</td>\n      <td>NaN</td>\n      <td>NaN</td>\n      <td>AC</td>\n      <td>CONTRIB. PREV.</td>\n      <td>3861807,15</td>\n    </tr>\n    <tr>\n      <th>1</th>\n      <td>2023-07</td>\n      <td>DEVEDOR</td>\n      <td>PF</td>\n      <td>NaN</td>\n      <td>NaN</td>\n      <td>NaN</td>\n      <td>AC</td>\n      <td>IRPF</td>\n      <td>52726729,42</td>\n    </tr>\n    <tr>\n      <th>2</th>\n      <td>2023-07</td>\n      <td>DEVEDOR</td>\n      <td>PF</td>\n      <td>NaN</td>\n      <td>NaN</td>\n      <td>NaN</td>\n      <td>AC</td>\n      <td>IRRF</td>\n      <td>59873,2</td>\n    </tr>\n    <tr>\n      <th>3</th>\n      <td>2023-07</td>\n      <td>DEVEDOR</td>\n      <td>PF</td>\n      <td>NaN</td>\n      <td>NaN</td>\n      <td>NaN</td>\n      <td>AC</td>\n      <td>ITR</td>\n      <td>8171734,62</td>\n    </tr>\n    <tr>\n      <th>4</th>\n      <td>2023-07</td>\n      <td>DEVEDOR</td>\n      <td>PF</td>\n      <td>NaN</td>\n      <td>NaN</td>\n      <td>NaN</td>\n      <td>AC</td>\n      <td>MULTAS</td>\n      <td>994572,04</td>\n    </tr>\n  </tbody>\n</table>\n</div>"
     },
     "execution_count": 132,
     "metadata": {},
     "output_type": "execute_result"
    }
   ],
   "source": [
    "import pandas as pd, numpy as np, matplotlib.pyplot as plt, seaborn as sns, petl as etl\n",
    "from petl import convert, rename, select\n",
    "\n",
    "df = pd.read_csv('creditos-ativos.csv', delimiter=';', encoding='latin1')\n",
    "\n",
    "df.head()"
   ]
  },
  {
   "cell_type": "markdown",
   "source": [
    "# Análise exploratória"
   ],
   "metadata": {
    "collapsed": false
   },
   "id": "3ee92d4de2bb71c8"
  },
  {
   "cell_type": "code",
   "execution_count": 133,
   "outputs": [
    {
     "name": "stdout",
     "output_type": "stream",
     "text": [
      "<class 'pandas.core.frame.DataFrame'>\n",
      "RangeIndex: 694467 entries, 0 to 694466\n",
      "Data columns (total 9 columns):\n",
      " #   Column             Non-Null Count   Dtype \n",
      "---  ------             --------------   ----- \n",
      " 0   ano_mes            694467 non-null  object\n",
      " 1   situacao           694467 non-null  object\n",
      " 2   tipo_contribuinte  694467 non-null  object\n",
      " 3   cnae_secao_cod     677627 non-null  object\n",
      " 4   cnae_secao_descr   677627 non-null  object\n",
      " 5   nat_juridica       684678 non-null  object\n",
      " 6   uf                 694376 non-null  object\n",
      " 7   grupo_tributo      694467 non-null  object\n",
      " 8   vl_total           694467 non-null  object\n",
      "dtypes: object(9)\n",
      "memory usage: 47.7+ MB\n"
     ]
    }
   ],
   "source": [
    "df.info()"
   ],
   "metadata": {
    "collapsed": false,
    "ExecuteTime": {
     "end_time": "2023-10-21T15:09:24.351802Z",
     "start_time": "2023-10-21T15:09:24.142033200Z"
    }
   },
   "id": "67095efee1d6726a"
  },
  {
   "cell_type": "code",
   "execution_count": 134,
   "outputs": [
    {
     "data": {
      "text/plain": "        ano_mes situacao tipo_contribuinte cnae_secao_cod  \\\ncount    694467   694467            694467         677627   \nunique       11        4                 2             19   \ntop     2023-07  DEVEDOR                PJ              M   \nfreq      63871   285122            684690          59646   \n\n                                         cnae_secao_descr  \\\ncount                                              677627   \nunique                                                 19   \ntop     ATIVIDADES PROFISSIONAIS, CIENTÃFICAS E TÃCN...   \nfreq                                                59646   \n\n                          nat_juridica      uf grupo_tributo vl_total  \ncount                           684678  694376        694467   694467  \nunique                              75      28            20   644373  \ntop     SOCIEDADE EMPRESÃRIA LIMITADA      SP        MULTAS    250,0  \nfreq                            171594   59760        104451     1556  ",
      "text/html": "<div>\n<style scoped>\n    .dataframe tbody tr th:only-of-type {\n        vertical-align: middle;\n    }\n\n    .dataframe tbody tr th {\n        vertical-align: top;\n    }\n\n    .dataframe thead th {\n        text-align: right;\n    }\n</style>\n<table border=\"1\" class=\"dataframe\">\n  <thead>\n    <tr style=\"text-align: right;\">\n      <th></th>\n      <th>ano_mes</th>\n      <th>situacao</th>\n      <th>tipo_contribuinte</th>\n      <th>cnae_secao_cod</th>\n      <th>cnae_secao_descr</th>\n      <th>nat_juridica</th>\n      <th>uf</th>\n      <th>grupo_tributo</th>\n      <th>vl_total</th>\n    </tr>\n  </thead>\n  <tbody>\n    <tr>\n      <th>count</th>\n      <td>694467</td>\n      <td>694467</td>\n      <td>694467</td>\n      <td>677627</td>\n      <td>677627</td>\n      <td>684678</td>\n      <td>694376</td>\n      <td>694467</td>\n      <td>694467</td>\n    </tr>\n    <tr>\n      <th>unique</th>\n      <td>11</td>\n      <td>4</td>\n      <td>2</td>\n      <td>19</td>\n      <td>19</td>\n      <td>75</td>\n      <td>28</td>\n      <td>20</td>\n      <td>644373</td>\n    </tr>\n    <tr>\n      <th>top</th>\n      <td>2023-07</td>\n      <td>DEVEDOR</td>\n      <td>PJ</td>\n      <td>M</td>\n      <td>ATIVIDADES PROFISSIONAIS, CIENTÃFICAS E TÃCN...</td>\n      <td>SOCIEDADE EMPRESÃRIA LIMITADA</td>\n      <td>SP</td>\n      <td>MULTAS</td>\n      <td>250,0</td>\n    </tr>\n    <tr>\n      <th>freq</th>\n      <td>63871</td>\n      <td>285122</td>\n      <td>684690</td>\n      <td>59646</td>\n      <td>59646</td>\n      <td>171594</td>\n      <td>59760</td>\n      <td>104451</td>\n      <td>1556</td>\n    </tr>\n  </tbody>\n</table>\n</div>"
     },
     "execution_count": 134,
     "metadata": {},
     "output_type": "execute_result"
    }
   ],
   "source": [
    "df.describe()"
   ],
   "metadata": {
    "collapsed": false,
    "ExecuteTime": {
     "end_time": "2023-10-21T15:09:25.439659Z",
     "start_time": "2023-10-21T15:09:24.346803800Z"
    }
   },
   "id": "9f6bef9bd295e277"
  },
  {
   "cell_type": "code",
   "execution_count": 135,
   "outputs": [
    {
     "data": {
      "text/plain": "ano_mes                  0\nsituacao                 0\ntipo_contribuinte        0\ncnae_secao_cod       16840\ncnae_secao_descr     16840\nnat_juridica          9789\nuf                      91\ngrupo_tributo            0\nvl_total                 0\ndtype: int64"
     },
     "execution_count": 135,
     "metadata": {},
     "output_type": "execute_result"
    }
   ],
   "source": [
    "df.isnull().sum()"
   ],
   "metadata": {
    "collapsed": false,
    "ExecuteTime": {
     "end_time": "2023-10-21T15:09:25.649535300Z",
     "start_time": "2023-10-21T15:09:25.434662500Z"
    }
   },
   "id": "77a25c5975817664"
  },
  {
   "cell_type": "markdown",
   "source": [
    "# Início do processo de ETL"
   ],
   "metadata": {
    "collapsed": false
   },
   "id": "f08294cfb15dc0"
  },
  {
   "cell_type": "markdown",
   "source": [
    "## Extração"
   ],
   "metadata": {
    "collapsed": false
   },
   "id": "1800e207471e58e8"
  },
  {
   "cell_type": "code",
   "execution_count": 136,
   "outputs": [
    {
     "data": {
      "text/plain": "   ano_mes situacao tipo_contribuinte cnae_secao_cod cnae_secao_descr  \\\n0  2023-07  DEVEDOR                PF            NaN              NaN   \n1  2023-07  DEVEDOR                PF            NaN              NaN   \n2  2023-07  DEVEDOR                PF            NaN              NaN   \n3  2023-07  DEVEDOR                PF            NaN              NaN   \n4  2023-07  DEVEDOR                PF            NaN              NaN   \n\n  nat_juridica  uf   grupo_tributo     vl_total  \n0          NaN  AC  CONTRIB. PREV.   3861807,15  \n1          NaN  AC            IRPF  52726729,42  \n2          NaN  AC            IRRF      59873,2  \n3          NaN  AC             ITR   8171734,62  \n4          NaN  AC          MULTAS    994572,04  ",
      "text/html": "<div>\n<style scoped>\n    .dataframe tbody tr th:only-of-type {\n        vertical-align: middle;\n    }\n\n    .dataframe tbody tr th {\n        vertical-align: top;\n    }\n\n    .dataframe thead th {\n        text-align: right;\n    }\n</style>\n<table border=\"1\" class=\"dataframe\">\n  <thead>\n    <tr style=\"text-align: right;\">\n      <th></th>\n      <th>ano_mes</th>\n      <th>situacao</th>\n      <th>tipo_contribuinte</th>\n      <th>cnae_secao_cod</th>\n      <th>cnae_secao_descr</th>\n      <th>nat_juridica</th>\n      <th>uf</th>\n      <th>grupo_tributo</th>\n      <th>vl_total</th>\n    </tr>\n  </thead>\n  <tbody>\n    <tr>\n      <th>0</th>\n      <td>2023-07</td>\n      <td>DEVEDOR</td>\n      <td>PF</td>\n      <td>NaN</td>\n      <td>NaN</td>\n      <td>NaN</td>\n      <td>AC</td>\n      <td>CONTRIB. PREV.</td>\n      <td>3861807,15</td>\n    </tr>\n    <tr>\n      <th>1</th>\n      <td>2023-07</td>\n      <td>DEVEDOR</td>\n      <td>PF</td>\n      <td>NaN</td>\n      <td>NaN</td>\n      <td>NaN</td>\n      <td>AC</td>\n      <td>IRPF</td>\n      <td>52726729,42</td>\n    </tr>\n    <tr>\n      <th>2</th>\n      <td>2023-07</td>\n      <td>DEVEDOR</td>\n      <td>PF</td>\n      <td>NaN</td>\n      <td>NaN</td>\n      <td>NaN</td>\n      <td>AC</td>\n      <td>IRRF</td>\n      <td>59873,2</td>\n    </tr>\n    <tr>\n      <th>3</th>\n      <td>2023-07</td>\n      <td>DEVEDOR</td>\n      <td>PF</td>\n      <td>NaN</td>\n      <td>NaN</td>\n      <td>NaN</td>\n      <td>AC</td>\n      <td>ITR</td>\n      <td>8171734,62</td>\n    </tr>\n    <tr>\n      <th>4</th>\n      <td>2023-07</td>\n      <td>DEVEDOR</td>\n      <td>PF</td>\n      <td>NaN</td>\n      <td>NaN</td>\n      <td>NaN</td>\n      <td>AC</td>\n      <td>MULTAS</td>\n      <td>994572,04</td>\n    </tr>\n  </tbody>\n</table>\n</div>"
     },
     "execution_count": 136,
     "metadata": {},
     "output_type": "execute_result"
    }
   ],
   "source": [
    "df.head()"
   ],
   "metadata": {
    "collapsed": false,
    "ExecuteTime": {
     "end_time": "2023-10-21T15:09:25.660221300Z",
     "start_time": "2023-10-21T15:09:25.642540100Z"
    }
   },
   "id": "381a04be112a6e2d"
  },
  {
   "cell_type": "markdown",
   "source": [
    "## Transformação"
   ],
   "metadata": {
    "collapsed": false
   },
   "id": "7d57994eceec7aca"
  },
  {
   "cell_type": "code",
   "execution_count": 137,
   "outputs": [
    {
     "data": {
      "text/plain": "ano_mes              object\nsituacao             object\ntipo_contribuinte    object\ncnae_secao_cod       object\ncnae_secao_descr     object\nnat_juridica         object\nuf                   object\ngrupo_tributo        object\nvl_total             object\ndtype: object"
     },
     "execution_count": 137,
     "metadata": {},
     "output_type": "execute_result"
    }
   ],
   "source": [
    "df.dtypes"
   ],
   "metadata": {
    "collapsed": false,
    "ExecuteTime": {
     "end_time": "2023-10-21T15:09:25.682861200Z",
     "start_time": "2023-10-21T15:09:25.657211400Z"
    }
   },
   "id": "aafe2a0e6ca9547c"
  },
  {
   "cell_type": "code",
   "execution_count": 138,
   "outputs": [],
   "source": [
    "# Convertendo valor total para float\n",
    "\n",
    "df['vl_total'] = df['vl_total'].str.replace(',', '.').astype(float)"
   ],
   "metadata": {
    "collapsed": false,
    "ExecuteTime": {
     "end_time": "2023-10-21T15:09:26.023619100Z",
     "start_time": "2023-10-21T15:09:25.666342600Z"
    }
   },
   "id": "d34afc8cc1eca20a"
  },
  {
   "cell_type": "code",
   "execution_count": 139,
   "outputs": [
    {
     "data": {
      "text/plain": "0     3861807.15\n1    52726729.42\n2       59873.20\n3     8171734.62\n4      994572.04\nName: vl_total, dtype: float64"
     },
     "execution_count": 139,
     "metadata": {},
     "output_type": "execute_result"
    }
   ],
   "source": [
    "df['vl_total'].head()"
   ],
   "metadata": {
    "collapsed": false,
    "ExecuteTime": {
     "end_time": "2023-10-21T15:09:26.034681400Z",
     "start_time": "2023-10-21T15:09:26.026612100Z"
    }
   },
   "id": "f13a118affaa706"
  },
  {
   "cell_type": "code",
   "execution_count": 158,
   "outputs": [],
   "source": [
    "# Mapeando situação para float\n",
    "\n",
    "lista_situacoes = df['situacao'].unique().tolist()\n",
    "\n",
    "df['situacao'] = df['situacao'].map(dict(zip(lista_situacoes, range(len(lista_situacoes))))).astype(float)"
   ],
   "metadata": {
    "collapsed": false,
    "ExecuteTime": {
     "end_time": "2023-10-21T15:10:55.268953200Z",
     "start_time": "2023-10-21T15:10:55.156579100Z"
    }
   },
   "id": "3bfec05dc233baf8"
  },
  {
   "cell_type": "code",
   "execution_count": 140,
   "outputs": [],
   "source": [
    "# Mapenado grupo tributo para float\n",
    "\n",
    "lista_tributos = df['grupo_tributo'].unique().tolist()\n",
    "\n",
    "df['grupo_tributo'] = df['grupo_tributo'].map(dict(zip(lista_tributos, range(len(lista_tributos))))).astype(float)"
   ],
   "metadata": {
    "collapsed": false,
    "ExecuteTime": {
     "end_time": "2023-10-21T15:09:26.143204700Z",
     "start_time": "2023-10-21T15:09:26.034681400Z"
    }
   },
   "id": "65c982b901c9eaaf"
  },
  {
   "cell_type": "code",
   "execution_count": 159,
   "outputs": [],
   "source": [
    "# Mapeando uf para float\n",
    "\n",
    "lista_ufs = df['uf'].unique().tolist()\n",
    "\n",
    "df['uf'] = df['uf'].map(dict(zip(lista_ufs, range(len(lista_ufs))))).astype(float)"
   ],
   "metadata": {
    "collapsed": false,
    "ExecuteTime": {
     "end_time": "2023-10-21T15:11:09.989994900Z",
     "start_time": "2023-10-21T15:11:09.945696Z"
    }
   },
   "id": "88a141067ff5662d"
  },
  {
   "cell_type": "code",
   "execution_count": 142,
   "outputs": [],
   "source": [
    "# Convertendo tipo contribuent para 0 e 1\n",
    "\n",
    "df['tipo_contribuinte'] = df['tipo_contribuinte'].map({'PF': 0, 'PJ': 1}).astype(int)"
   ],
   "metadata": {
    "collapsed": false,
    "ExecuteTime": {
     "end_time": "2023-10-21T15:09:26.246713900Z",
     "start_time": "2023-10-21T15:09:26.200714200Z"
    }
   },
   "id": "af73c8847e206b6c"
  },
  {
   "cell_type": "code",
   "execution_count": 143,
   "outputs": [
    {
     "data": {
      "text/plain": "tipo_contribuinte\n1    684690\n0      9777\nName: count, dtype: int64"
     },
     "execution_count": 143,
     "metadata": {},
     "output_type": "execute_result"
    }
   ],
   "source": [
    "df['tipo_contribuinte'].value_counts()"
   ],
   "metadata": {
    "collapsed": false,
    "ExecuteTime": {
     "end_time": "2023-10-21T15:09:26.268381300Z",
     "start_time": "2023-10-21T15:09:26.248714500Z"
    }
   },
   "id": "9c41fea5b32b747a"
  },
  {
   "cell_type": "code",
   "execution_count": 144,
   "outputs": [],
   "source": [
    "# Removendo colunas desnecessárias (CNAE e natureza jurídica)\n",
    "\n",
    "df.drop(['cnae_secao_cod', 'cnae_secao_descr', 'nat_juridica'], axis=1, inplace=True)"
   ],
   "metadata": {
    "collapsed": false,
    "ExecuteTime": {
     "end_time": "2023-10-21T15:09:26.294704800Z",
     "start_time": "2023-10-21T15:09:26.262381500Z"
    }
   },
   "id": "d9135f22ee018b28"
  },
  {
   "cell_type": "code",
   "execution_count": 145,
   "outputs": [],
   "source": [
    "# Removendo colunas com valores nulos\n",
    "\n",
    "df.dropna(inplace=True)"
   ],
   "metadata": {
    "collapsed": false,
    "ExecuteTime": {
     "end_time": "2023-10-21T15:09:26.381230400Z",
     "start_time": "2023-10-21T15:09:26.291706400Z"
    }
   },
   "id": "6d1db85ca02a97eb"
  },
  {
   "cell_type": "code",
   "execution_count": 146,
   "outputs": [
    {
     "data": {
      "text/plain": "        ano_mes   situacao  tipo_contribuinte    uf  grupo_tributo  \\\n0       2023-07    DEVEDOR                  0   1.0            0.0   \n1       2023-07    DEVEDOR                  0   1.0            1.0   \n2       2023-07    DEVEDOR                  0   1.0            2.0   \n3       2023-07    DEVEDOR                  0   1.0            3.0   \n4       2023-07    DEVEDOR                  0   1.0            4.0   \n...         ...        ...                ...   ...            ...   \n694462  2022-09  PARCELADO                  1  26.0            0.0   \n694463  2022-09  PARCELADO                  1  26.0           10.0   \n694464  2022-09  PARCELADO                  1  26.0            8.0   \n694465  2022-09  PARCELADO                  1  26.0            2.0   \n694466  2022-09  PARCELADO                  1  26.0            9.0   \n\n           vl_total  \n0        3861807.15  \n1       52726729.42  \n2          59873.20  \n3        8171734.62  \n4         994572.04  \n...             ...  \n694462   2494447.86  \n694463    867944.64  \n694464   1574585.68  \n694465    289185.77  \n694466    579367.64  \n\n[693969 rows x 6 columns]",
      "text/html": "<div>\n<style scoped>\n    .dataframe tbody tr th:only-of-type {\n        vertical-align: middle;\n    }\n\n    .dataframe tbody tr th {\n        vertical-align: top;\n    }\n\n    .dataframe thead th {\n        text-align: right;\n    }\n</style>\n<table border=\"1\" class=\"dataframe\">\n  <thead>\n    <tr style=\"text-align: right;\">\n      <th></th>\n      <th>ano_mes</th>\n      <th>situacao</th>\n      <th>tipo_contribuinte</th>\n      <th>uf</th>\n      <th>grupo_tributo</th>\n      <th>vl_total</th>\n    </tr>\n  </thead>\n  <tbody>\n    <tr>\n      <th>0</th>\n      <td>2023-07</td>\n      <td>DEVEDOR</td>\n      <td>0</td>\n      <td>1.0</td>\n      <td>0.0</td>\n      <td>3861807.15</td>\n    </tr>\n    <tr>\n      <th>1</th>\n      <td>2023-07</td>\n      <td>DEVEDOR</td>\n      <td>0</td>\n      <td>1.0</td>\n      <td>1.0</td>\n      <td>52726729.42</td>\n    </tr>\n    <tr>\n      <th>2</th>\n      <td>2023-07</td>\n      <td>DEVEDOR</td>\n      <td>0</td>\n      <td>1.0</td>\n      <td>2.0</td>\n      <td>59873.20</td>\n    </tr>\n    <tr>\n      <th>3</th>\n      <td>2023-07</td>\n      <td>DEVEDOR</td>\n      <td>0</td>\n      <td>1.0</td>\n      <td>3.0</td>\n      <td>8171734.62</td>\n    </tr>\n    <tr>\n      <th>4</th>\n      <td>2023-07</td>\n      <td>DEVEDOR</td>\n      <td>0</td>\n      <td>1.0</td>\n      <td>4.0</td>\n      <td>994572.04</td>\n    </tr>\n    <tr>\n      <th>...</th>\n      <td>...</td>\n      <td>...</td>\n      <td>...</td>\n      <td>...</td>\n      <td>...</td>\n      <td>...</td>\n    </tr>\n    <tr>\n      <th>694462</th>\n      <td>2022-09</td>\n      <td>PARCELADO</td>\n      <td>1</td>\n      <td>26.0</td>\n      <td>0.0</td>\n      <td>2494447.86</td>\n    </tr>\n    <tr>\n      <th>694463</th>\n      <td>2022-09</td>\n      <td>PARCELADO</td>\n      <td>1</td>\n      <td>26.0</td>\n      <td>10.0</td>\n      <td>867944.64</td>\n    </tr>\n    <tr>\n      <th>694464</th>\n      <td>2022-09</td>\n      <td>PARCELADO</td>\n      <td>1</td>\n      <td>26.0</td>\n      <td>8.0</td>\n      <td>1574585.68</td>\n    </tr>\n    <tr>\n      <th>694465</th>\n      <td>2022-09</td>\n      <td>PARCELADO</td>\n      <td>1</td>\n      <td>26.0</td>\n      <td>2.0</td>\n      <td>289185.77</td>\n    </tr>\n    <tr>\n      <th>694466</th>\n      <td>2022-09</td>\n      <td>PARCELADO</td>\n      <td>1</td>\n      <td>26.0</td>\n      <td>9.0</td>\n      <td>579367.64</td>\n    </tr>\n  </tbody>\n</table>\n<p>693969 rows × 6 columns</p>\n</div>"
     },
     "execution_count": 146,
     "metadata": {},
     "output_type": "execute_result"
    }
   ],
   "source": [
    "df"
   ],
   "metadata": {
    "collapsed": false
   },
   "id": "4c87cfce095663a0"
  },
  {
   "cell_type": "markdown",
   "source": [
    "## Load"
   ],
   "metadata": {
    "collapsed": false
   },
   "id": "21eb59cc83bc834a"
  },
  {
   "cell_type": "code",
   "execution_count": 147,
   "outputs": [],
   "source": [
    "df.to_csv('creditos-ativos-etl.csv', index=False)"
   ],
   "metadata": {
    "collapsed": false
   },
   "id": "5f6acdeae6b8f953"
  }
 ],
 "metadata": {
  "kernelspec": {
   "display_name": "Python 3",
   "language": "python",
   "name": "python3"
  },
  "language_info": {
   "codemirror_mode": {
    "name": "ipython",
    "version": 2
   },
   "file_extension": ".py",
   "mimetype": "text/x-python",
   "name": "python",
   "nbconvert_exporter": "python",
   "pygments_lexer": "ipython2",
   "version": "2.7.6"
  }
 },
 "nbformat": 4,
 "nbformat_minor": 5
}
